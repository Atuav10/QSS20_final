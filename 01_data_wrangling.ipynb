{
 "cells": [
  {
   "cell_type": "markdown",
   "id": "00f5268a-6c20-4d92-9848-dee5ee936997",
   "metadata": {},
   "source": [
    "# Data Wrangling"
   ]
  },
  {
   "cell_type": "markdown",
   "id": "079e9613-6768-40b1-80f0-a66cbce55028",
   "metadata": {},
   "source": [
    "Let us import all of our packages and load in the data (2013-2023)"
   ]
  },
  {
   "cell_type": "code",
   "execution_count": 2,
   "id": "dbeb18c8-0b58-41c5-9c6b-274dd728691d",
   "metadata": {},
   "outputs": [],
   "source": [
    "import pandas as pd\n",
    "import nfl_data_py as nfl\n",
    "import numpy as np\n",
    "import matplotlib.pyplot as plt\n",
    "import graphviz"
   ]
  },
  {
   "cell_type": "code",
   "execution_count": 3,
   "id": "fdd675b1-caf3-4dfb-a0d5-33817907936f",
   "metadata": {},
   "outputs": [
    {
     "name": "stdout",
     "output_type": "stream",
     "text": [
      "2014 done.\n",
      "2015 done.\n",
      "2016 done.\n",
      "2017 done.\n",
      "2018 done.\n",
      "2019 done.\n",
      "2020 done.\n",
      "2021 done.\n",
      "2022 done.\n",
      "2023 done.\n",
      "Downcasting floats.\n"
     ]
    }
   ],
   "source": [
    "pbp = nfl.import_pbp_data(range(2014,2024))"
   ]
  },
  {
   "cell_type": "code",
   "execution_count": 26,
   "id": "6a4e33fd-5729-4a28-9795-82a5b09b72b1",
   "metadata": {},
   "outputs": [
    {
     "name": "stdout",
     "output_type": "stream",
     "text": [
      "(202927, 397)\n"
     ]
    }
   ],
   "source": [
    "print(pbp.shape)"
   ]
  },
  {
   "cell_type": "markdown",
   "id": "5a20aaa5-71bf-4ab5-bca8-3750e95dae2a",
   "metadata": {},
   "source": [
    "# Section 1 - General\n",
    "Goals:\n",
    "\n",
    "- Filter pbp dataset to only include pass attempts\n",
    "- Group by players and summarize the average epa (expected points added) and total attempts\n",
    "- Visualize our results"
   ]
  },
  {
   "cell_type": "code",
   "execution_count": 4,
   "id": "c6f1c23b-e29e-487c-acf2-827d2d327a17",
   "metadata": {},
   "outputs": [],
   "source": [
    "pbp = pbp[pbp[\"pass_attempt\"] == 1]"
   ]
  },
  {
   "cell_type": "code",
   "execution_count": 5,
   "id": "f91c2bd8-a74b-4f96-9c77-6e33a85dc67a",
   "metadata": {},
   "outputs": [],
   "source": [
    "pbp_grouped = pbp.groupby(\"passer_player_name\").agg(team=('posteam', 'last'), mean_epa=('epa', 'mean'), sum_att=('pass_attempt', 'sum'))\n",
    "pbp_filtered = pbp_grouped[pbp_grouped[\"sum_att\"] > 500]\n",
    "pd.set_option('display.max_rows', None)\n",
    "pbp_filtered = pbp_filtered.sort_values(by=\"mean_epa\", ascending=False)"
   ]
  },
  {
   "cell_type": "code",
   "execution_count": 6,
   "id": "a2cb0490-9d4d-478d-b88f-6438552ace13",
   "metadata": {},
   "outputs": [
    {
     "data": {
      "text/html": [
       "<div>\n",
       "<style scoped>\n",
       "    .dataframe tbody tr th:only-of-type {\n",
       "        vertical-align: middle;\n",
       "    }\n",
       "\n",
       "    .dataframe tbody tr th {\n",
       "        vertical-align: top;\n",
       "    }\n",
       "\n",
       "    .dataframe thead th {\n",
       "        text-align: right;\n",
       "    }\n",
       "</style>\n",
       "<table border=\"1\" class=\"dataframe\">\n",
       "  <thead>\n",
       "    <tr style=\"text-align: right;\">\n",
       "      <th></th>\n",
       "      <th>team</th>\n",
       "      <th>mean_epa</th>\n",
       "      <th>sum_att</th>\n",
       "    </tr>\n",
       "    <tr>\n",
       "      <th>passer_player_name</th>\n",
       "      <th></th>\n",
       "      <th></th>\n",
       "      <th></th>\n",
       "    </tr>\n",
       "  </thead>\n",
       "  <tbody>\n",
       "    <tr>\n",
       "      <th>B.Purdy</th>\n",
       "      <td>SF</td>\n",
       "      <td>0.260180</td>\n",
       "      <td>833.0</td>\n",
       "    </tr>\n",
       "    <tr>\n",
       "      <th>P.Mahomes</th>\n",
       "      <td>KC</td>\n",
       "      <td>0.222529</td>\n",
       "      <td>4455.0</td>\n",
       "    </tr>\n",
       "    <tr>\n",
       "      <th>T.Romo</th>\n",
       "      <td>DAL</td>\n",
       "      <td>0.184863</td>\n",
       "      <td>655.0</td>\n",
       "    </tr>\n",
       "    <tr>\n",
       "      <th>T.Brady</th>\n",
       "      <td>TB</td>\n",
       "      <td>0.156850</td>\n",
       "      <td>6715.0</td>\n",
       "    </tr>\n",
       "    <tr>\n",
       "      <th>D.Brees</th>\n",
       "      <td>NO</td>\n",
       "      <td>0.155805</td>\n",
       "      <td>4176.0</td>\n",
       "    </tr>\n",
       "    <tr>\n",
       "      <th>A.Rodgers</th>\n",
       "      <td>NYJ</td>\n",
       "      <td>0.137633</td>\n",
       "      <td>5241.0</td>\n",
       "    </tr>\n",
       "    <tr>\n",
       "      <th>J.Garoppolo</th>\n",
       "      <td>LV</td>\n",
       "      <td>0.135447</td>\n",
       "      <td>2180.0</td>\n",
       "    </tr>\n",
       "    <tr>\n",
       "      <th>J.Love</th>\n",
       "      <td>GB</td>\n",
       "      <td>0.132817</td>\n",
       "      <td>754.0</td>\n",
       "    </tr>\n",
       "    <tr>\n",
       "      <th>P.Rivers</th>\n",
       "      <td>IND</td>\n",
       "      <td>0.126503</td>\n",
       "      <td>4393.0</td>\n",
       "    </tr>\n",
       "    <tr>\n",
       "      <th>D.Prescott</th>\n",
       "      <td>DAL</td>\n",
       "      <td>0.111451</td>\n",
       "      <td>4417.0</td>\n",
       "    </tr>\n",
       "    <tr>\n",
       "      <th>B.Roethlisberger</th>\n",
       "      <td>PIT</td>\n",
       "      <td>0.108336</td>\n",
       "      <td>4707.0</td>\n",
       "    </tr>\n",
       "    <tr>\n",
       "      <th>T.Tagovailoa</th>\n",
       "      <td>MIA</td>\n",
       "      <td>0.105459</td>\n",
       "      <td>1777.0</td>\n",
       "    </tr>\n",
       "    <tr>\n",
       "      <th>C.Stroud</th>\n",
       "      <td>HOU</td>\n",
       "      <td>0.105114</td>\n",
       "      <td>595.0</td>\n",
       "    </tr>\n",
       "    <tr>\n",
       "      <th>J.Allen</th>\n",
       "      <td>BUF</td>\n",
       "      <td>0.095079</td>\n",
       "      <td>3593.0</td>\n",
       "    </tr>\n",
       "    <tr>\n",
       "      <th>J.Burrow</th>\n",
       "      <td>CIN</td>\n",
       "      <td>0.094655</td>\n",
       "      <td>2332.0</td>\n",
       "    </tr>\n",
       "    <tr>\n",
       "      <th>M.Ryan</th>\n",
       "      <td>IND</td>\n",
       "      <td>0.093107</td>\n",
       "      <td>5712.0</td>\n",
       "    </tr>\n",
       "    <tr>\n",
       "      <th>C.Palmer</th>\n",
       "      <td>ARI</td>\n",
       "      <td>0.089797</td>\n",
       "      <td>1814.0</td>\n",
       "    </tr>\n",
       "    <tr>\n",
       "      <th>L.Jackson</th>\n",
       "      <td>BAL</td>\n",
       "      <td>0.085586</td>\n",
       "      <td>2512.0</td>\n",
       "    </tr>\n",
       "    <tr>\n",
       "      <th>A.Luck</th>\n",
       "      <td>IND</td>\n",
       "      <td>0.083115</td>\n",
       "      <td>2396.0</td>\n",
       "    </tr>\n",
       "    <tr>\n",
       "      <th>J.Herbert</th>\n",
       "      <td>LAC</td>\n",
       "      <td>0.082497</td>\n",
       "      <td>2610.0</td>\n",
       "    </tr>\n",
       "  </tbody>\n",
       "</table>\n",
       "</div>"
      ],
      "text/plain": [
       "                   team  mean_epa  sum_att\n",
       "passer_player_name                        \n",
       "B.Purdy              SF  0.260180    833.0\n",
       "P.Mahomes            KC  0.222529   4455.0\n",
       "T.Romo              DAL  0.184863    655.0\n",
       "T.Brady              TB  0.156850   6715.0\n",
       "D.Brees              NO  0.155805   4176.0\n",
       "A.Rodgers           NYJ  0.137633   5241.0\n",
       "J.Garoppolo          LV  0.135447   2180.0\n",
       "J.Love               GB  0.132817    754.0\n",
       "P.Rivers            IND  0.126503   4393.0\n",
       "D.Prescott          DAL  0.111451   4417.0\n",
       "B.Roethlisberger    PIT  0.108336   4707.0\n",
       "T.Tagovailoa        MIA  0.105459   1777.0\n",
       "C.Stroud            HOU  0.105114    595.0\n",
       "J.Allen             BUF  0.095079   3593.0\n",
       "J.Burrow            CIN  0.094655   2332.0\n",
       "M.Ryan              IND  0.093107   5712.0\n",
       "C.Palmer            ARI  0.089797   1814.0\n",
       "L.Jackson           BAL  0.085586   2512.0\n",
       "A.Luck              IND  0.083115   2396.0\n",
       "J.Herbert           LAC  0.082497   2610.0"
      ]
     },
     "execution_count": 6,
     "metadata": {},
     "output_type": "execute_result"
    }
   ],
   "source": [
    "pbp_filtered.head(20)"
   ]
  },
  {
   "cell_type": "code",
   "execution_count": 7,
   "id": "4524814d-d6f8-4dc3-98a9-4734b2dcd119",
   "metadata": {},
   "outputs": [
    {
     "data": {
      "image/png": "[encoded data removed]",
      "text/plain": [
       "<Figure size 1200x800 with 1 Axes>"
      ]
     },
     "metadata": {},
     "output_type": "display_data"
    }
   ],
   "source": [
    "plt.figure(figsize=(12, 8))\n",
    "plt.scatter(pbp_filtered['mean_epa'], pbp_filtered['sum_att'], color='blue', alpha=0.7)\n",
    "\n",
    "plt.xlabel('Mean EPA')\n",
    "plt.ylabel('Total Pass Attempts')\n",
    "plt.title('Mean EPA vs. Total Pass Attempts for Each Player')\n",
    "\n",
    "for player, row in pbp_filtered.iterrows():\n",
    "    plt.annotate(player, (row['mean_epa'], row['sum_att']), fontsize=8, ha='right')\n",
    "\n",
    "plt.show()\n"
   ]
  },
  {
   "cell_type": "markdown",
   "id": "8e3f9bdd-ea82-4b97-9a97-179cbc902f77",
   "metadata": {},
   "source": [
    "# Section 2 - Getting the weather columns"
   ]
  },
  {
   "cell_type": "markdown",
   "id": "f3eba9fe-3ea9-4ccb-80ae-1e9cb5aba3d4",
   "metadata": {},
   "source": [
    "There is a weather column in our dataset. Now what does that look like? Let's see."
   ]
  },
  {
   "cell_type": "code",
   "execution_count": 9,
   "id": "3dfb16ad-3806-4556-ba2a-c5d73f94e638",
   "metadata": {},
   "outputs": [
    {
     "data": {
      "text/plain": [
       "4     Sunny Temp: 74° F, Humidity: 45%, Wind: NE 3 mph\n",
       "7     Sunny Temp: 74° F, Humidity: 45%, Wind: NE 3 mph\n",
       "8     Sunny Temp: 74° F, Humidity: 45%, Wind: NE 3 mph\n",
       "9     Sunny Temp: 74° F, Humidity: 45%, Wind: NE 3 mph\n",
       "12    Sunny Temp: 74° F, Humidity: 45%, Wind: NE 3 mph\n",
       "Name: weather, dtype: object"
      ]
     },
     "execution_count": 9,
     "metadata": {},
     "output_type": "execute_result"
    }
   ],
   "source": [
    "pbp[\"weather\"].head()"
   ]
  },
  {
   "cell_type": "markdown",
   "id": "a4aaf1b7-f031-44f1-8ad7-41b671519d06",
   "metadata": {},
   "source": [
    "As we can see, it is a string of a lot of information, like temperature, humidity, and wind speed. Our goal will be to extract each of these pieces of information."
   ]
  },
  {
   "cell_type": "markdown",
   "id": "c0733817-28c3-46df-870f-e000017490ed",
   "metadata": {},
   "source": [
    "## Extracting the weather"
   ]
  },
  {
   "cell_type": "markdown",
   "id": "c73359e8-f752-46df-9236-da44955eee85",
   "metadata": {},
   "source": [
    "Based on our initial analysis, it seems like the first word tells us what the weather is. What does this look like?"
   ]
  },
  {
   "cell_type": "code",
   "execution_count": 12,
   "id": "345bf5f5-6cb9-49d1-a872-54e3ac148daf",
   "metadata": {},
   "outputs": [
    {
     "name": "stderr",
     "output_type": "stream",
     "text": [
      "/var/folders/6q/jmrgx0xj5t7b7l152lzdznmr0000gn/T/ipykernel_64647/4258186487.py:1: PerformanceWarning: DataFrame is highly fragmented.  This is usually the result of calling `frame.insert` many times, which has poor performance.  Consider joining all columns at once using pd.concat(axis=1) instead. To get a de-fragmented frame, use `newframe = frame.copy()`\n",
      "  pbp['first_word_weather'] = pbp['weather'].str.split().str[0]\n"
     ]
    },
    {
     "data": {
      "text/plain": [
       "first_word_weather\n",
       "Cloudy           47717\n",
       "Sunny            41210\n",
       "Partly           22712\n",
       "Temp:            20938\n",
       "Clear            16710\n",
       "Mostly           14828\n",
       "Rain              6961\n",
       "Controlled        6077\n",
       "N/A               6070\n",
       "Fair              2601\n",
       "Indoors           2226\n",
       "Overcast          1555\n",
       "Cloudy,           1430\n",
       "Light             1395\n",
       "Snow               852\n",
       "Sunny,             737\n",
       "Indoor             651\n",
       "Hazy               436\n",
       "Clear,             400\n",
       "cloudy             305\n",
       "Rainy              292\n",
       "No                 250\n",
       "clear              223\n",
       "T:                 223\n",
       "Cold               222\n",
       "sunny              199\n",
       "Scattered          196\n",
       "Foggy              170\n",
       "0%                 160\n",
       "n/a                159\n",
       "Party              147\n",
       "SUNNY              145\n",
       "partly             138\n",
       "Showers            130\n",
       "Thunderstorms       99\n",
       "Mosly               92\n",
       "Mid                 91\n",
       "Outdoor             89\n",
       "Dry                 87\n",
       "Steady              84\n",
       "Climate             83\n",
       "Zero                79\n",
       "sUNNY               78\n",
       "Occasional          77\n",
       "Flurries            77\n",
       "Fog                 77\n",
       "overcast            76\n",
       "scattered           74\n",
       "Raining,            73\n",
       "Upper               72\n",
       "Sun                 71\n",
       "Freezing            70\n",
       "Threat              68\n",
       "Cloundy             68\n",
       "CLOUDY              68\n",
       "Warm                66\n",
       "Sun/Clouds          66\n",
       "Cold,               66\n",
       "Drizzle             66\n",
       "Cloudly             66\n",
       "Raining             65\n",
       "Coudy               65\n",
       "30%                 64\n",
       "10%                 64\n",
       "Hazey               62\n",
       "Temperatures        62\n",
       "Breezy              60\n",
       "Frigid              48\n",
       "Heavy               38\n",
       "Name: count, dtype: int64"
      ]
     },
     "execution_count": 12,
     "metadata": {},
     "output_type": "execute_result"
    }
   ],
   "source": [
    "pbp['first_word_weather'] = pbp['weather'].str.split().str[0]\n",
    "pbp[\"first_word_weather\"].value_counts()"
   ]
  },
  {
   "cell_type": "markdown",
   "id": "72dbce97-a80d-402d-a53c-60821bcbdbce",
   "metadata": {},
   "source": [
    "As we can see, a lot of synonyms. We could use AI to group them but I will just do it manually. We can also see that many entries do not have proper weather entries. We are going to organize these terms into three categories: cloudy, sunny, and rainy (percpitiation). The rest of the terms do not matter."
   ]
  },
  {
   "cell_type": "code",
   "execution_count": 13,
   "id": "2ea4c6c7-e559-47b7-9e6d-9bf0a042bcfe",
   "metadata": {},
   "outputs": [
    {
     "name": "stderr",
     "output_type": "stream",
     "text": [
      "/var/folders/6q/jmrgx0xj5t7b7l152lzdznmr0000gn/T/ipykernel_64647/1513259754.py:1: PerformanceWarning: DataFrame is highly fragmented.  This is usually the result of calling `frame.insert` many times, which has poor performance.  Consider joining all columns at once using pd.concat(axis=1) instead. To get a de-fragmented frame, use `newframe = frame.copy()`\n",
      "  pbp['is_sunny'] = np.where(pbp['weather'].str.contains('sunny|clear', case=False, na=False), 1, 0)\n",
      "/var/folders/6q/jmrgx0xj5t7b7l152lzdznmr0000gn/T/ipykernel_64647/1513259754.py:2: PerformanceWarning: DataFrame is highly fragmented.  This is usually the result of calling `frame.insert` many times, which has poor performance.  Consider joining all columns at once using pd.concat(axis=1) instead. To get a de-fragmented frame, use `newframe = frame.copy()`\n",
      "  pbp['is_cloudy'] = np.where(pbp['weather'].str.contains('Cloudy | Cloudly', case=False, na=False), 1, 0)\n"
     ]
    },
    {
     "name": "stdout",
     "output_type": "stream",
     "text": [
      "is_sunny            0.336594\n",
      "is_cloudy           0.379742\n",
      "is_percipitation    0.052960\n",
      "dtype: float64\n"
     ]
    },
    {
     "name": "stderr",
     "output_type": "stream",
     "text": [
      "/var/folders/6q/jmrgx0xj5t7b7l152lzdznmr0000gn/T/ipykernel_64647/1513259754.py:3: PerformanceWarning: DataFrame is highly fragmented.  This is usually the result of calling `frame.insert` many times, which has poor performance.  Consider joining all columns at once using pd.concat(axis=1) instead. To get a de-fragmented frame, use `newframe = frame.copy()`\n",
      "  pbp['is_percipitation'] = np.where(pbp['weather'].str.contains('Rain | Raining, | scattered | Raining | Thunderstorms | Showers | Scattered | Snow | Flurries | Scattered', case=False, na=False), 1, 0)\n"
     ]
    }
   ],
   "source": [
    "pbp['is_sunny'] = np.where(pbp['weather'].str.contains('sunny|clear', case=False, na=False), 1, 0)\n",
    "pbp['is_cloudy'] = np.where(pbp['weather'].str.contains('Cloudy | Cloudly', case=False, na=False), 1, 0)\n",
    "pbp['is_percipitation'] = np.where(pbp['weather'].str.contains('Rain | Raining, | scattered | Raining | Thunderstorms | Showers | Scattered | Snow | Flurries | Scattered', case=False, na=False), 1, 0)\n",
    "\n",
    "print(pbp[[\"is_sunny\", \"is_cloudy\", \"is_percipitation\"]].mean())"
   ]
  },
  {
   "cell_type": "markdown",
   "id": "0971ed7b-1818-4a56-ac5d-e83e18781362",
   "metadata": {},
   "source": [
    "Now what does the average EPA look like in each of these weather conditions?"
   ]
  },
  {
   "cell_type": "code",
   "execution_count": 14,
   "id": "9b16fe8c-8d3f-4cd6-b180-837428b38a84",
   "metadata": {},
   "outputs": [
    {
     "name": "stdout",
     "output_type": "stream",
     "text": [
      "0.030000351 0.022475053 -0.043500226\n"
     ]
    }
   ],
   "source": [
    "mean_epa_sunny = pbp.loc[pbp[\"is_sunny\"] == 1, \"epa\"].mean()\n",
    "mean_epa_cloudy = pbp.loc[pbp[\"is_cloudy\"] == 1, \"epa\"].mean()\n",
    "mean_epa_rainy = pbp.loc[pbp[\"is_percipitation\"] == 1, \"epa\"].mean()\n",
    "print(mean_epa_sunny, mean_epa_cloudy, mean_epa_rainy)"
   ]
  },
  {
   "cell_type": "markdown",
   "id": "e3477672-cba5-4614-9003-8e138c89446d",
   "metadata": {},
   "source": [
    "We do not have many entries, but we can clearly see the **epa goes down significantly when it is rainy.** "
   ]
  },
  {
   "cell_type": "markdown",
   "id": "e04cfd48-ee00-4edf-9ae7-c0156f809e81",
   "metadata": {},
   "source": [
    "## Temperature"
   ]
  },
  {
   "cell_type": "markdown",
   "id": "6fd41b7e-582d-401e-91ec-a869cf6018a1",
   "metadata": {},
   "source": [
    "Temperature is a **continuous** variable which means we need to treat it slightly different. First, let us extract it from the weather column."
   ]
  },
  {
   "cell_type": "code",
   "execution_count": 19,
   "id": "c02be327-8dab-4120-b6a2-1807208d7310",
   "metadata": {},
   "outputs": [
    {
     "name": "stdout",
     "output_type": "stream",
     "text": [
      "4     74.0\n",
      "7     74.0\n",
      "8     74.0\n",
      "9     74.0\n",
      "12    74.0\n",
      "15    74.0\n",
      "18    74.0\n",
      "23    74.0\n",
      "25    74.0\n",
      "26    74.0\n",
      "Name: temperature, dtype: float64\n"
     ]
    }
   ],
   "source": [
    "pbp['temperature'] = pbp['weather'].str.extract(r'([-+]?\\d+)(?=°)', expand=False)\n",
    "pbp['temperature'] = pd.to_numeric(pbp['temperature'], errors='coerce')\n",
    "print(pbp[\"temperature\"].head(10))"
   ]
  },
  {
   "cell_type": "markdown",
   "id": "4ada12fe-3686-4c07-a310-2d65b249c138",
   "metadata": {},
   "source": [
    "And now let us look at how players perform in below freezing weather. This won't be a factor in our model, but it will be cool to see."
   ]
  },
  {
   "cell_type": "code",
   "execution_count": 21,
   "id": "142e4e6a-7233-43cd-85c4-be08758b384f",
   "metadata": {},
   "outputs": [
    {
     "name": "stdout",
     "output_type": "stream",
     "text": [
      "0.04917039132298807\n",
      "EPA in cold weather: -0.016088498756289482\n"
     ]
    }
   ],
   "source": [
    "pbp[\"is_cold\"] = np.where(pbp[\"temperature\"] <= 32, 1, 0)\n",
    "print(pbp[\"is_cold\"].mean())\n",
    "pbp_cold = pbp[pbp[\"is_cold\"] == 1]\n",
    "mean_epa_cold = pbp.loc[pbp[\"is_cold\"] == 1, \"epa\"].mean()\n",
    "print(f\"EPA in cold weather: {mean_epa_cold}\")"
   ]
  },
  {
   "cell_type": "markdown",
   "id": "9ad09f22-1147-42cc-9272-2106c8e3429c",
   "metadata": {},
   "source": [
    "It is cold in around 5 percent of games and QB performance decreases significantly."
   ]
  },
  {
   "cell_type": "markdown",
   "id": "82eb22b7-f5bd-447b-8f05-49121da2a3d3",
   "metadata": {},
   "source": [
    "## Wind"
   ]
  },
  {
   "cell_type": "markdown",
   "id": "2afb0007-da37-4532-befa-24aca1141f16",
   "metadata": {},
   "source": [
    "Next, we will do wind which is very similar to temperature. Let's extract it from the weather column once again."
   ]
  },
  {
   "cell_type": "code",
   "execution_count": 29,
   "id": "8e622d5d-d6cb-4a8c-bf07-4507a74b02b8",
   "metadata": {},
   "outputs": [
    {
     "data": {
      "text/plain": [
       "4     3.0\n",
       "7     3.0\n",
       "8     3.0\n",
       "9     3.0\n",
       "12    3.0\n",
       "15    3.0\n",
       "18    3.0\n",
       "23    3.0\n",
       "25    3.0\n",
       "26    3.0\n",
       "Name: wind_speed, dtype: float64"
      ]
     },
     "execution_count": 29,
     "metadata": {},
     "output_type": "execute_result"
    }
   ],
   "source": [
    "pbp['wind_speed'] = pbp['weather'].str.extract(r'(\\d+)\\s*mph')[0].astype(float)\n",
    "pbp[\"wind_speed\"] = pd.to_numeric(pbp['wind_speed'], errors='coerce')\n",
    "pbp[\"wind_speed\"].head(10)"
   ]
  },
  {
   "cell_type": "markdown",
   "id": "44a7f9ea-8ae8-4ce9-93f9-6221e2b73e54",
   "metadata": {},
   "source": [
    "According to the internet(?) windy games are games with speeds greater than or equal to 15 mph because this can really effect the ball. How to QBs perform in this scenario?"
   ]
  },
  {
   "cell_type": "code",
   "execution_count": 30,
   "id": "2d5abe66-2b88-4d9f-b50b-c1a9d4097f9d",
   "metadata": {},
   "outputs": [
    {
     "name": "stdout",
     "output_type": "stream",
     "text": [
      "0.08998802525045953\n",
      "EPA in windy weather: -0.018401216715574265\n"
     ]
    }
   ],
   "source": [
    "pbp[\"is_windy\"] = np.where(pbp[\"wind_speed\"] >= 15, 1, 0)\n",
    "print(pbp[\"is_windy\"].mean())\n",
    "pbp_windy = pbp[pbp[\"is_windy\"] == 1]\n",
    "mean_epa_windy = pbp.loc[pbp[\"is_windy\"] == 1, \"epa\"].mean()\n",
    "print(f\"EPA in windy weather: {mean_epa_windy}\")"
   ]
  },
  {
   "cell_type": "markdown",
   "id": "fb9a3b42-a0da-4b67-83d1-7884b3fce163",
   "metadata": {},
   "source": [
    "This situation occurs in roughly 9 percent of instances and as expected, QB performance goes down."
   ]
  },
  {
   "cell_type": "markdown",
   "id": "e65bd4b9-b76d-4e6b-a626-18ad21f587ef",
   "metadata": {},
   "source": [
    "## Preparing data for models"
   ]
  },
  {
   "cell_type": "markdown",
   "id": "cbdb817c-11dc-4445-88c8-b4f3bde4eeb0",
   "metadata": {},
   "source": [
    "Lastly, we are going to group by games to get EPA per game and prepare our model for the OLS regression and XGBoost. Additionally exporting as csv."
   ]
  },
  {
   "cell_type": "code",
   "execution_count": 32,
   "id": "d4125e47-06c0-43d2-b7ad-0333960922ff",
   "metadata": {},
   "outputs": [],
   "source": [
    "pbp_games = pbp.groupby([\"game_id\", \"passer_player_name\"]).agg(sum_epa=(\"epa\", \"sum\"), att = (\"pass_attempt\", \"sum\"), yards = (\"passing_yards\", \"sum\"), mean_temp=(\"temperature\", \"mean\"), is_sunny=(\"is_sunny\",\"max\"), is_cloudy=(\"is_cloudy\",\"max\"), is_rainy = (\"is_percipitation\", \"max\"), mean_wind = (\"wind_speed\", \"mean\"), is_cold = (\"is_cold\", \"max\"), is_windy = (\"is_windy\", \"max\")).reset_index()\n",
    "pbp_games.to_csv('for_model.csv', index=False)"
   ]
  }
 ],
 "metadata": {
  "kernelspec": {
   "display_name": "Python 3 (ipykernel)",
   "language": "python",
   "name": "python3"
  },
  "language_info": {
   "codemirror_mode": {
    "name": "ipython",
    "version": 3
   },
   "file_extension": ".py",
   "mimetype": "text/x-python",
   "name": "python",
   "nbconvert_exporter": "python",
   "pygments_lexer": "ipython3",
   "version": "3.11.7"
  }
 },
 "nbformat": 4,
 "nbformat_minor": 5
}
